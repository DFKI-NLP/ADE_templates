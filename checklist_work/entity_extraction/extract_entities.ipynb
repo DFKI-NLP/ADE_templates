{
 "cells": [
  {
   "cell_type": "code",
   "execution_count": 1,
   "metadata": {},
   "outputs": [],
   "source": [
    "import pickle\n",
    "import pandas as pd\n",
    "import spacy\n",
    "\n",
    "from ade_entity_extraction import ADE_NP_Extraction\n"
   ]
  },
  {
   "attachments": {},
   "cell_type": "markdown",
   "metadata": {},
   "source": [
    "# Extracting Lists Entity Fill-ins\n",
    "Lists of Drugs and ADEs \\\n",
    "Corpus: PsyTar"
   ]
  },
  {
   "attachments": {},
   "cell_type": "markdown",
   "metadata": {},
   "source": [
    "## 1. Drug Names"
   ]
  },
  {
   "cell_type": "code",
   "execution_count": 1,
   "metadata": {},
   "outputs": [
    {
     "name": "stdout",
     "output_type": "stream",
     "text": [
      "['Lexapro', 'Effexor XR', 'Cymbalta', 'Zoloft', 'EffexorXR', 'Effexor', 'lexapro', 'effexor xr', 'cymbalta', 'zoloft', 'effexorxr', 'effexor']\n",
      "12\n"
     ]
    }
   ],
   "source": [
    "drugs = [\"Lexapro\", \"Effexor XR\", \"Cymbalta\", \"Zoloft\"] \n",
    "\n",
    "# add different capitalizations and spellings\n",
    "drugs += [\"EffexorXR\", \"Effexor\"]\n",
    "drugs_lowercase = [d.lower() for d in drugs]\n",
    "drugs += drugs_lowercase\n",
    "\n",
    "print(drugs)\n",
    "print(len(drugs))"
   ]
  },
  {
   "cell_type": "code",
   "execution_count": 3,
   "metadata": {},
   "outputs": [],
   "source": [
    "# save drug list\n",
    "with open(\"extraction_results/extracted_psytar_drugs.pkl\", \"wb\") as fp:   \n",
    "    pickle.dump(drugs, fp)"
   ]
  },
  {
   "attachments": {},
   "cell_type": "markdown",
   "metadata": {},
   "source": [
    "### 2. ADEs\n",
    "PsyTar is annoated for ADEs. All unique ADEs are extracted from the corpus and subsequently filtered for small to medium-sized noun phrases."
   ]
  },
  {
   "cell_type": "code",
   "execution_count": null,
   "metadata": {},
   "outputs": [],
   "source": [
    "# load data sheet with annotated ADEs\n",
    "path_to_data = \"../data/PsyTAR_dataset.xlsx\"\n",
    "\n",
    "psytar_ade = pd.read_excel(path_to_data, sheet_name=\"ADR_Identified\")"
   ]
  },
  {
   "cell_type": "code",
   "execution_count": 5,
   "metadata": {},
   "outputs": [
    {
     "name": "stdout",
     "output_type": "stream",
     "text": [
      "3362\n"
     ]
    }
   ],
   "source": [
    "# extract all ADEs\n",
    "ade_columns = psytar_ade.columns[4:]\n",
    "ades_list = []\n",
    "\n",
    "for col in ade_columns: # loop over ADE columns, get all ADEs\n",
    "    ades_list += psytar_ade[col].unique().tolist()\n",
    "\n",
    "# remove duplicates\n",
    "ades_set = set(ades_list)\n",
    "ades_d = list(ades_set)\n",
    "\n",
    "# remove nans\n",
    "ades = [a for a in ades_d if type(a)==str]\n",
    "\n",
    "print(len(ades))"
   ]
  },
  {
   "attachments": {},
   "cell_type": "markdown",
   "metadata": {},
   "source": [
    "ADEs in PsyTar come in different phrase types. Only short or medium length noun phrases (NP) can be used to fill the templates. ADEs in this format will be extracted in the next steps."
   ]
  },
  {
   "cell_type": "code",
   "execution_count": null,
   "metadata": {},
   "outputs": [],
   "source": [
    "# spacy model\n",
    "spacy_modelname = \"en_core_web_sm\" # must be installed first\n",
    "\n",
    "extractor = ADE_NP_Extraction(ade_list=ades, spacy_model=spacy_modelname)\n",
    "\n",
    "tagsets_np = extractor.create_NP_tagsets() # create POS tagsets to filter ADEs\n",
    "ades_extracted = extractor.extract_NP_ADEs(tagsets_np, n=-1) # get all filtered ADEs from corpus\n",
    "ades_extracted[:10]"
   ]
  },
  {
   "cell_type": "code",
   "execution_count": 7,
   "metadata": {},
   "outputs": [
    {
     "name": "stdout",
     "output_type": "stream",
     "text": [
      "Number of ADEs as NP: 1227\n",
      "Number of not extracted ADEs: 2101\n",
      "total number of ADEs: 3362\n",
      "retrieved %: 36.50\n"
     ]
    }
   ],
   "source": [
    "# show relation between ADEs matching the filters and others in the whole corpus\n",
    "extractor = ADE_NP_Extraction(ade_list=ades, spacy_model=spacy_modelname)\n",
    "\n",
    "ade_nouns_all, ade_other = extractor.count_matching_ADEs(tagsets_np)"
   ]
  },
  {
   "cell_type": "code",
   "execution_count": 8,
   "metadata": {},
   "outputs": [],
   "source": [
    "# save extracted ADEs\n",
    "extractor.save_list(ades_extracted, output_filename=\"extraction_results/extracted_psytar_ades.pkl\")"
   ]
  }
 ],
 "metadata": {
  "kernelspec": {
   "display_name": "dfki_adr2",
   "language": "python",
   "name": "python3"
  },
  "language_info": {
   "codemirror_mode": {
    "name": "ipython",
    "version": 3
   },
   "file_extension": ".py",
   "mimetype": "text/x-python",
   "name": "python",
   "nbconvert_exporter": "python",
   "pygments_lexer": "ipython3",
   "version": "3.10.9"
  },
  "orig_nbformat": 4
 },
 "nbformat": 4,
 "nbformat_minor": 2
}
